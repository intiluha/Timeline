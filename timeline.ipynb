{
 "cells": [
  {
   "cell_type": "code",
   "execution_count": 6,
   "metadata": {},
   "outputs": [],
   "source": [
    "# imports\n",
    "\n",
    "import pandas as pd\n",
    "import numpy as np\n",
    "import random"
   ]
  },
  {
   "cell_type": "code",
   "execution_count": 14,
   "metadata": {},
   "outputs": [],
   "source": [
    "# preparation\n",
    "\n",
    "df = pd.read_csv('data.csv', index_col='Name')[['Date']]"
   ]
  },
  {
   "cell_type": "code",
   "execution_count": 15,
   "metadata": {
    "scrolled": true
   },
   "outputs": [
    {
     "data": {
      "text/html": [
       "<div>\n",
       "<style scoped>\n",
       "    .dataframe tbody tr th:only-of-type {\n",
       "        vertical-align: middle;\n",
       "    }\n",
       "\n",
       "    .dataframe tbody tr th {\n",
       "        vertical-align: top;\n",
       "    }\n",
       "\n",
       "    .dataframe thead th {\n",
       "        text-align: right;\n",
       "    }\n",
       "</style>\n",
       "<table border=\"1\" class=\"dataframe\">\n",
       "  <thead>\n",
       "    <tr style=\"text-align: right;\">\n",
       "      <th></th>\n",
       "      <th>Date</th>\n",
       "    </tr>\n",
       "    <tr>\n",
       "      <th>Name</th>\n",
       "      <th></th>\n",
       "    </tr>\n",
       "  </thead>\n",
       "  <tbody>\n",
       "    <tr>\n",
       "      <th>Special Relativity Theory</th>\n",
       "      <td>1905</td>\n",
       "    </tr>\n",
       "    <tr>\n",
       "      <th>General relativity</th>\n",
       "      <td>1915</td>\n",
       "    </tr>\n",
       "    <tr>\n",
       "      <th>First and Second Kepler's laws</th>\n",
       "      <td>1609</td>\n",
       "    </tr>\n",
       "    <tr>\n",
       "      <th>Third Kepler's law</th>\n",
       "      <td>1619</td>\n",
       "    </tr>\n",
       "    <tr>\n",
       "      <th>Stalin's death</th>\n",
       "      <td>1953</td>\n",
       "    </tr>\n",
       "  </tbody>\n",
       "</table>\n",
       "</div>"
      ],
      "text/plain": [
       "                                Date\n",
       "Name                                \n",
       "Special Relativity Theory       1905\n",
       "General relativity              1915\n",
       "First and Second Kepler's laws  1609\n",
       "Third Kepler's law              1619\n",
       "Stalin's death                  1953"
      ]
     },
     "execution_count": 15,
     "metadata": {},
     "output_type": "execute_result"
    }
   ],
   "source": [
    "df"
   ]
  },
  {
   "cell_type": "code",
   "execution_count": 38,
   "metadata": {
    "scrolled": true
   },
   "outputs": [
    {
     "name": "stdout",
     "output_type": "stream",
     "text": [
      "The current timeline is:\n",
      "First and Second Kepler's laws\n",
      "Where woild you put \"Stalin's death\" on this timeline? (type number from 0 to 1)1\n",
      "Correct!\n",
      "The current timeline is:\n",
      "First and Second Kepler's laws\tStalin's death\n",
      "Where woild you put \"Special Relativity Theory\" on this timeline? (type number from 0 to 2)1\n",
      "Correct!\n",
      "The current timeline is:\n",
      "First and Second Kepler's laws\tSpecial Relativity Theory\tStalin's death\n",
      "Where woild you put \"Third Kepler's law\" on this timeline? (type number from 0 to 3)1\n",
      "Correct!\n",
      "The current timeline is:\n",
      "First and Second Kepler's laws\tThird Kepler's law\tSpecial Relativity Theory\tStalin's death\n",
      "Where woild you put \"General relativity\" on this timeline? (type number from 0 to 4)1\n",
      "Wrong!\n"
     ]
    }
   ],
   "source": [
    "events = list(df.index)\n",
    "random.shuffle(events)\n",
    "timeline = events[:1]\n",
    "\n",
    "for event in events[1:]:\n",
    "    print('The current timeline is:')\n",
    "    print('\\t'.join(timeline))\n",
    "    choice = int(input(f'Where woild you put \"{event}\" on this timeline? \\\n",
    "(type number from 0 to {len(timeline)})'))\n",
    "    \n",
    "    lower_bound = len(df[df.index.isin(timeline) & df['Date'].lt(df.at[event, 'Date'])])\n",
    "    upper_bound = len(df[df.index.isin(timeline) & df['Date'].le(df.at[event, 'Date'])])\n",
    "    if lower_bound <= choice <= upper_bound:\n",
    "        print('Correct!')\n",
    "        timeline = timeline[:choice] + [event] + timeline[choice:]\n",
    "    else:\n",
    "        print('Wrong!')\n",
    "        break\n",
    "else:\n",
    "    print('Gratz! You won!')"
   ]
  },
  {
   "cell_type": "code",
   "execution_count": null,
   "metadata": {},
   "outputs": [],
   "source": []
  }
 ],
 "metadata": {
  "kernelspec": {
   "display_name": "Python 3",
   "language": "python",
   "name": "python3"
  },
  "language_info": {
   "codemirror_mode": {
    "name": "ipython",
    "version": 3
   },
   "file_extension": ".py",
   "mimetype": "text/x-python",
   "name": "python",
   "nbconvert_exporter": "python",
   "pygments_lexer": "ipython3",
   "version": "3.7.4"
  }
 },
 "nbformat": 4,
 "nbformat_minor": 4
}
